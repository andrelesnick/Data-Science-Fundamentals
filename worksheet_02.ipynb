{
 "cells": [
  {
   "attachments": {},
   "cell_type": "markdown",
   "metadata": {},
   "source": [
    "# Worksheet 02\n",
    "\n",
    "Name:  Andre Lesnick\n",
    "UID: U67500750\n",
    "\n",
    "### Topics\n",
    "\n",
    "- Effective Programming\n",
    "\n",
    "### Effective Programming\n",
    "\n",
    "a) What is a drawback of the top down approach?"
   ]
  },
  {
   "attachments": {},
   "cell_type": "markdown",
   "metadata": {},
   "source": [
    "If you choose to use a top down approach, you might realize later on that the large design choices you made earlier may not be applicable now, or can be hard to implement."
   ]
  },
  {
   "attachments": {},
   "cell_type": "markdown",
   "metadata": {},
   "source": [
    "b) What is a drawback of the bottom up approach?"
   ]
  },
  {
   "attachments": {},
   "cell_type": "markdown",
   "metadata": {},
   "source": [
    "With a bottom up approach, you might over-engineer your code, thus resulting in a lot of wasted code and effort."
   ]
  },
  {
   "attachments": {},
   "cell_type": "markdown",
   "metadata": {},
   "source": [
    "c) What are 3 things you can do to have a better debugging experience?"
   ]
  },
  {
   "attachments": {},
   "cell_type": "markdown",
   "metadata": {},
   "source": [
    "1. Using an integrated debugger to identify bugs more easily\n",
    "\n",
    "2. Use unit tests/assertions to test your code\n",
    "\n",
    "3. Use a version control system to keep track of your code"
   ]
  },
  {
   "cell_type": "code",
   "execution_count": null,
   "metadata": {},
   "outputs": [],
   "source": []
  },
  {
   "attachments": {},
   "cell_type": "markdown",
   "metadata": {},
   "source": [
    "d) Follow along with the live coding. You can write your code here:"
   ]
  },
  {
   "cell_type": "code",
   "execution_count": null,
   "metadata": {},
   "outputs": [],
   "source": [
    "class Board:\n",
    "    def __init__(self):\n",
    "        self.board = [[\"_\"] for _ in range(8) for _ in range(8)]\n",
    "\n",
    "    def __repr__(self):\n",
    "        res = \"\"\n",
    "        for row in self.board:\n",
    "            for col in row:\n",
    "                res += \" \"\n",
    "                res += col\n",
    "        return res\n",
    "    \n",
    "    def is_legal_row(self, row):\n",
    "        for i in range(len(self.board)):\n",
    "            if self.board[row][i] == \"Q\":\n",
    "                return False\n",
    "        return True\n",
    "    \n",
    "    def is_legal_col(self, col):\n",
    "        for i in range(len(self.board)):\n",
    "            if self.board[i][col] == \"Q\":\n",
    "                return False\n",
    "        return True\n",
    "    \n",
    "    def is_legal(self, row, col):\n",
    "        if not self.is_legal_row(row):\n",
    "            return False\n",
    "        if not self.is_legal_col(col):\n",
    "            return False\n",
    "        return True\n",
    "    \n",
    "\n",
    "\n",
    "    def is_legal_diag(self, row, col):\n",
    "        for i in range(len(self.board)):\n",
    "            if self.is_on_board(row + i, col + i) and self.board[row + i][col + i] == \"Q\":\n",
    "                return False\n",
    "            if self.is_on_board(row - i, col - i) and self.board[row - i][col - i] == \"Q\":\n",
    "                return False\n",
    "            if self.is_on_board(row + i, col - i) and self.board[row + i][col - i] == \"Q\":\n",
    "                return False\n",
    "            if self.is_on_board(row - i, col + i) and self.board[row - i][col + i] == \"Q\":\n",
    "                return False\n",
    "            \n",
    "        return True\n",
    "    \n",
    "    def is_on_board(self, row, col):\n",
    "        return (row >= 0 and row < 8) and (col >= 0 and col < 8)\n",
    "        \n",
    "    def set_queen_at(self, row, col):\n",
    "            self.board[row][col] = \"Q\"\n",
    "    \n",
    "    def unset_queen_at(self, row, col):\n",
    "            self.board[row][col] = \"_\"\n",
    "\n",
    "    def get_queen_on(self, row):\n",
    "        for col in range(8):\n",
    "            if self.board[row][col] == \"Q\":\n",
    "                return col\n",
    "        return None\n",
    "    \n",
    "    def search(self):\n",
    "        row = 0\n",
    "        col = 0\n",
    "        while row < 8:\n",
    "            if self.is_legal(row, col):\n",
    "                self.set_queen_at(row, col)\n",
    "                row += 1\n",
    "                col = 0\n",
    "            else:\n",
    "                col += 1\n",
    "                while col >= 8:\n",
    "                    col = self.get_queen_on(row - 1)\n",
    "                    self.unset_queen_at(row - 1)\n",
    "                    col += 1\n",
    "                    row -= 1\n",
    "                    \n",
    "        print(\"Solution found!\")\n",
    "        print(self)\n",
    "        return self\n",
    "    \n",
    "                        \n",
    "\n",
    "           \n",
    "    \n",
    "\n",
    "board = Board()\n",
    "board.search()\n",
    "print(board)"
   ]
  }
 ],
 "metadata": {
  "kernelspec": {
   "display_name": "Python 3",
   "language": "python",
   "name": "python3"
  },
  "language_info": {
   "name": "python",
   "version": "3.11.1 (main, Dec  7 2022, 00:00:00) [GCC 12.2.1 20221121 (Red Hat 12.2.1-4)]"
  },
  "orig_nbformat": 4,
  "vscode": {
   "interpreter": {
    "hash": "76ca05dc3ea24b2e3b98cdb7774adfbb40773424bf5109b477fd793f623715af"
   }
  }
 },
 "nbformat": 4,
 "nbformat_minor": 2
}
