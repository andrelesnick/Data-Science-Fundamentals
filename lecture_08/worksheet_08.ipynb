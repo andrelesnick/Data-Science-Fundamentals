{
 "cells": [
  {
   "attachments": {},
   "cell_type": "markdown",
   "metadata": {},
   "source": [
    "# Worksheet 08\n",
    "\n",
    "Name:  Andre Lesnick\n",
    "UID: U67500750\n",
    "\n",
    "### Topics\n",
    "\n",
    "- Soft Clustering\n",
    "- Clustering Aggregation\n",
    "\n",
    "### Probability Review\n",
    "\n",
    "Read through [the following](https://medium.com/@gallettilance/overview-of-probability-3272b72c82c8)\n",
    "\n",
    "### Soft Clustering\n",
    "\n",
    "We generate 10 data points that come from a normal distribution with mean 5 and variance 1."
   ]
  },
  {
   "cell_type": "code",
   "execution_count": 4,
   "metadata": {},
   "outputs": [
    {
     "name": "stdout",
     "output_type": "stream",
     "text": [
      "[4.8253841204906465, 5.605996929419328, 5.057522830803258, 4.488965371985306, 5.2623110222258, 5.093712503023731, 5.179357881300982, 5.476036196223571, 3.740637073573962, 3.7833754318725337]\n"
     ]
    }
   ],
   "source": [
    "import random\n",
    "import numpy as np\n",
    "from sklearn.cluster import KMeans\n",
    "\n",
    "mean = 5\n",
    "stdev = 1\n",
    "\n",
    "s1 = np.random.normal(mean, stdev, 10).tolist()\n",
    "print(s1)"
   ]
  },
  {
   "attachments": {},
   "cell_type": "markdown",
   "metadata": {},
   "source": [
    "a) Generate 10 more data points, this time coming from a normal distribution with mean 8 and variance 1."
   ]
  },
  {
   "cell_type": "code",
   "execution_count": 5,
   "metadata": {},
   "outputs": [
    {
     "name": "stdout",
     "output_type": "stream",
     "text": [
      "[6.7144771267909205, 6.095290777794834, 7.840702122598177, 6.952770668493741, 8.970063755885935, 9.147473748914836, 4.964307281852689, 5.245152666330506, 7.433981170200385, 6.923690144580687]\n"
     ]
    }
   ],
   "source": [
<<<<<<< HEAD
    "c2 = np.random.normal(8, 1, 10).tolist()\n",
    "print(c2)"
=======
    "s2 = np.random.normal( ... , ... , ... ).tolist()\n",
    "print(s2)"
>>>>>>> upstream/main
   ]
  },
  {
   "attachments": {},
   "cell_type": "markdown",
   "metadata": {},
   "source": [
    "b) Flip a fair coin 10 times. If the coin lands on H, then pick the last data point of `c1` and remove it from `c1`, if T then pick the last data point from `c2` and remove it from `c2`. Add these 10 points to a list called `data`."
   ]
  },
  {
   "cell_type": "code",
   "execution_count": 6,
   "metadata": {},
   "outputs": [
    {
     "name": "stdout",
     "output_type": "stream",
     "text": [
      "[6.923690144580687, 3.7833754318725337, 3.740637073573962, 7.433981170200385, 5.245152666330506, 5.476036196223571, 5.179357881300982, 5.093712503023731, 4.964307281852689, 9.147473748914836]\n"
     ]
    }
   ],
   "source": [
    "data = []\n",
    "for i in range(10):\n",
    "    # flip coin\n",
    "    coin_output = random.choice([0, 1])\n",
    "    if coin_output == 0:\n",
    "        p1 = c1.pop()\n",
    "        data.append(p1)\n",
    "    else:\n",
    "        p2 = c2.pop()\n",
    "        data.append(p2)\n",
    "print(data)"
   ]
  },
  {
   "attachments": {},
   "cell_type": "markdown",
   "metadata": {},
   "source": [
    "c) This `data` is a Gaussian Mixture Distribution with 2 mixture components. Over the next few questions we will walk through the GMM algorithm to see if we can uncover the parameters we used to generate this data. First, please list all these parameters of the GMM that created `data` and the values we know they have."
   ]
  },
  {
   "attachments": {},
   "cell_type": "markdown",
   "metadata": {},
   "source": [
    "prior, pr, mean, variance"
   ]
  },
  {
   "attachments": {},
   "cell_type": "markdown",
   "metadata": {},
   "source": [
    "d) Let's assume there are two mixture components (note: we could plot the data and make the observation that there are two clusters). The EM algorithm asks us to start with a random `mean_j`, `variance_j`, `P(S_j)` for each component j. One method we could use to find sensible values for these is to apply K means with k=2 here.\n",
    "\n",
    "1. the centroids would be the estimates of the `mean_j`\n",
    "2. the intra-cluster variance could be the estimate of `variance_j`\n",
    "3. the proportion of points in each cluster could be the estimate of `P(S_j)`\n",
    "\n",
    "Go through this process and list the parameter estimates it gives. Are they close or far from the true values?"
   ]
  },
  {
   "cell_type": "code",
   "execution_count": 7,
   "metadata": {},
   "outputs": [
    {
     "name": "stderr",
     "output_type": "stream",
     "text": [
      "c:\\Users\\Andre\\AppData\\Local\\Programs\\Python\\Python311\\Lib\\site-packages\\sklearn\\cluster\\_kmeans.py:1416: FutureWarning: The default value of `n_init` will change from 10 to 'auto' in 1.4. Set the value of `n_init` explicitly to suppress the warning\n",
      "  super()._check_params_vs_input(X, default_n_init=10)\n"
     ]
    },
    {
     "name": "stdout",
     "output_type": "stream",
     "text": [
      "[3.7833754318725337, 3.740637073573962, 5.245152666330506, 5.476036196223571, 5.179357881300982, 5.093712503023731, 4.964307281852689]\n",
      "[6.923690144580687, 7.433981170200385, 9.147473748914836]\n",
      "P(C_1) = 0.7,  P(C_2) = 0.3\n",
      "mean_1 = 4.783225576311139,  mean_2 = 7.835048354565302\n",
      "var_1 = 0.43802397253267017,  var_2 = 10.218251966209058\n"
     ]
    }
   ],
   "source": [
    "kmeans = KMeans(2, init='k-means++').fit(X=np.array(data).reshape(-1, 1))\n",
    "\n",
<<<<<<< HEAD
    "c1 = [x[0] for x in filter(lambda x: x[1] == 0, zip(data, kmeans.labels_))]\n",
    "print(c1)\n",
    "c2 = [x[0] for x in filter(lambda x: x[1] == 1, zip(data, kmeans.labels_))]\n",
    "print(c2)\n",
    "\n",
    "prob_c = [ len(c1) / (len(c1) + len(c2)) , len(c2) / (len(c1) + len(c2)) ]\n",
    "mean = [ sum(c1)/len(c1) , sum(c2)/len(c2)]\n",
    "var = [ sum(map(lambda x : (x - mean[0])**2, c1)) / len(c1) , sum(map(lambda x : (x - mean[0])**2, c2)) / len(c2)]\n",
=======
    "s1 = [x[0] for x in filter(lambda x: x[1] == 0, zip(data, kmeans.labels_))]\n",
    "print(s1)\n",
    "s2 = ...\n",
    "print(s2)\n",
    "\n",
    "prob_s = [ len(s1) / (len(s1) + len(s2)) , ... ]\n",
    "mean = [ sum(s1)/len(s1) , ... ]\n",
    "var = [ sum(map(lambda x : (x - mean[0])**2, s1)) / len(s1) , ... ]\n",
>>>>>>> upstream/main
    "\n",
    "print(\"P(S_1) = \" + str(prob_s[0]) + \",  P(S_2) = \" + str(prob_s[1]))\n",
    "print(\"mean_1 = \" + str(mean[0]) + \",  mean_2 = \" + str(mean[1]))\n",
    "print(\"var_1 = \" + str(var[0]) + \",  var_2 = \" + str(var[1]))"
   ]
  },
  {
   "attachments": {},
   "cell_type": "markdown",
   "metadata": {},
   "source": [
    "They are close to the true values"
   ]
  },
  {
   "attachments": {},
   "cell_type": "markdown",
   "metadata": {},
   "source": [
    "e) For each data point, compute `P(S_j | X_i)`. Comment on which cluster you think each point belongs to based on the estimated probabilities. How does that compare to the truth?"
   ]
  },
  {
   "cell_type": "code",
   "execution_count": 8,
   "metadata": {},
   "outputs": [
    {
     "name": "stdout",
     "output_type": "stream",
     "text": [
      "point =  6.923690144580687\n",
      "probability of observing that point if it came from cluster 0 =  5.944333565126569e-06\n",
      "probability of observing that point if it came from cluster 1 =  0.03888714973818358\n",
      "point =  3.7833754318725337\n",
      "probability of observing that point if it came from cluster 0 =  0.06729462516802645\n",
      "probability of observing that point if it came from cluster 1 =  0.036090505063253155\n",
      "point =  3.740637073573962\n",
      "probability of observing that point if it came from cluster 0 =  0.053602809334201466\n",
      "probability of observing that point if it came from cluster 1 =  0.03603038568152614\n",
      "point =  7.433981170200385\n",
      "probability of observing that point if it came from cluster 0 =  1.0162895073362135e-08\n",
      "probability of observing that point if it came from cluster 1 =  0.039012064007315425\n",
      "point =  5.245152666330506\n",
      "probability of observing that point if it came from cluster 0 =  0.5222984052723678\n",
      "probability of observing that point if it came from cluster 1 =  0.037808002527972596\n",
      "point =  5.476036196223571\n",
      "probability of observing that point if it came from cluster 0 =  0.2607217900350483\n",
      "probability of observing that point if it came from cluster 1 =  0.03801544206800776\n",
      "point =  5.179357881300982\n",
      "probability of observing that point if it came from cluster 0 =  0.6050813596775443\n",
      "probability of observing that point if it came from cluster 1 =  0.03774556766207471\n",
      "point =  5.093712503023731\n",
      "probability of observing that point if it came from cluster 0 =  0.7084464861630234\n",
      "probability of observing that point if it came from cluster 1 =  0.037662111068015834\n",
      "point =  4.964307281852689\n",
      "probability of observing that point if it came from cluster 0 =  0.8361818845352158\n",
      "probability of observing that point if it came from cluster 1 =  0.037531361004213525\n",
      "point =  9.147473748914836\n",
      "probability of observing that point if it came from cluster 0 =  2.529022036578584e-22\n",
      "probability of observing that point if it came from cluster 1 =  0.038721418087616\n",
      "6.923690144580687\n",
      "Probability of coming from C_1 = 0.0003565487924353384\n",
      "Probability of coming from C_2 = 0.9996434512075646\n",
      "\n",
      "3.7833754318725337\n",
      "Probability of coming from C_1 = 0.8131103379184695\n",
      "Probability of coming from C_2 = 0.18688966208153046\n",
      "\n",
      "3.740637073573962\n",
      "Probability of coming from C_1 = 0.7763527071224977\n",
      "Probability of coming from C_2 = 0.22364729287750232\n",
      "\n",
      "7.433981170200385\n",
      "Probability of coming from C_1 = 6.078480600062804e-07\n",
      "Probability of coming from C_2 = 0.99999939215194\n",
      "\n",
      "5.245152666330506\n",
      "Probability of coming from C_1 = 0.9699101681667704\n",
      "Probability of coming from C_2 = 0.030089831833229577\n",
      "\n",
      "5.476036196223571\n",
      "Probability of coming from C_1 = 0.9411859143618645\n",
      "Probability of coming from C_2 = 0.05881408563813546\n",
      "\n",
      "5.179357881300982\n",
      "Probability of coming from C_1 = 0.9739614282083967\n",
      "Probability of coming from C_2 = 0.026038571791603335\n",
      "\n",
      "5.093712503023731\n",
      "Probability of coming from C_1 = 0.9777240054878087\n",
      "Probability of coming from C_2 = 0.0222759945121914\n",
      "\n",
      "4.964307281852689\n",
      "Probability of coming from C_1 = 0.9811269547532491\n",
      "Probability of coming from C_2 = 0.01887304524675101\n",
      "\n",
      "9.147473748914836\n",
      "Probability of coming from C_1 = 1.523976060311349e-20\n",
      "Probability of coming from C_2 = 1.0\n",
      "\n"
     ]
    }
   ],
   "source": [
    "from scipy.stats import norm\n",
    "\n",
    "prob_s0_x = [] # P(S_0 | X_i)\n",
    "prob_s1_x = [] # P(S_1 | X_i)\n",
    "prob_x = [] # P(X_i)\n",
    "\n",
    "k = 2\n",
    "\n",
    "for p in data:\n",
    "    print(\"point = \", p)\n",
    "    pdf_i = []\n",
    "\n",
    "    for j in range(k):\n",
    "        # P(X_i | S_j)\n",
    "        pdf_i.append(norm.pdf(p, mean[j], var[j]))\n",
    "        print(\"probability of observing that point if it came from cluster \" + str(j) + \" = \", pdf_i[j])\n",
    "        # P(S_j) already computed\n",
    "        prob_s[j]\n",
    "\n",
    "    # P(X_i) = P(S_0)P(X_i | S_0) + P(S_1)P(X_i | S_1)\n",
    "    prob_x = prob_s[0] * pdf_i[0] + prob_s[1] * pdf_i[1]\n",
    "\n",
<<<<<<< HEAD
    "    # P(C_j | X_i) = P(X_i | C_j)P(C_j) / P(X_i)\n",
    "    prob_c0_x.append(prob_c[0] * pdf_i[0] / prob_x)\n",
    "    prob_c1_x.append(prob_c[1] * pdf_i[1] / prob_x)\n",
    "probs = zip(data, prob_c0_x, prob_c1_x)\n",
=======
    "    # P(S_j | X_i) = P(X_i | S_j)P(S_j) / P(X_i)\n",
    "    prob_s0_x.append( ... )\n",
    "    prob_s1_x.append( ... )\n",
    "\n",
    "probs = zip(data, prob_s0_x, prob_s1_x)\n",
>>>>>>> upstream/main
    "for p in probs:\n",
    "    print(p[0])\n",
    "    print(\"Probability of coming from S_1 = \" + str(p[1]))\n",
    "    print(\"Probability of coming from S_2 = \" + str(p[2]))\n",
    "    print()\n"
   ]
  },
  {
   "attachments": {},
   "cell_type": "markdown",
   "metadata": {},
   "source": [
    "f) Having computed `P(S_j | X_i)`, update the estimates of `mean_j`, `var_j`, and `P(S_j)`. How different are these values from the original ones you got from K means? briefly comment."
   ]
  },
  {
   "cell_type": "code",
   "execution_count": 9,
   "metadata": {},
   "outputs": [
    {
     "name": "stdout",
     "output_type": "stream",
     "text": [
      "P(C_1) = 0.6433728672659551,  P(C_2) = 0.3566271327340448\n",
      "mean_1 = 4.836927487192482,  mean_2 = 7.253582989502869\n",
      "var_1 = 0.40067162103304327,  var_2 = 2.624812940591722\n"
     ]
    }
   ],
   "source": [
<<<<<<< HEAD
    "prob_c = [sum(prob_c0_x)/ len(prob_c0_x), sum(prob_c1_x)/ len(prob_c1_x)]\n",
    "mean = [sum([x[0] * x[1] for x in zip(prob_c0_x, data)]) / sum(prob_c0_x), sum([x[0] * x[1] for x in zip(prob_c1_x, data)]) / sum(prob_c1_x) ]\n",
    "var = [sum([x * (data[i] - mean[0])**2 for i, x in enumerate(prob_c0_x)]) / sum(prob_c0_x), \n",
    "       sum([x * (data[i] - mean[1])**2 for i, x in enumerate(prob_c1_x)]) / sum(prob_c1_x) ]\n",
=======
    "prob_c = [sum(prob_s0_x)/ len(prob_s0_x), ... ]\n",
    "mean = [sum([x[0] * x[1] for x in zip(prob_s0_x, data)]) / sum(prob_s0_x), ... ]\n",
    "var = [ ... , ... ]\n",
>>>>>>> upstream/main
    "\n",
    "print(\"P(S_1) = \" + str(prob_s[0]) + \",  P(S_2) = \" + str(prob_s[1]))\n",
    "print(\"mean_1 = \" + str(mean[0]) + \",  mean_2 = \" + str(mean[1]))\n",
    "print(\"var_1 = \" + str(var[0]) + \",  var_2 = \" + str(var[1]))"
   ]
  },
  {
   "attachments": {},
   "cell_type": "markdown",
   "metadata": {},
   "source": [
    "The updated values are closer to the true values."
   ]
  },
  {
   "attachments": {},
   "cell_type": "markdown",
   "metadata": {},
   "source": [
    "g) Update `P(S_j | X_i)`. Comment on any differences or lack thereof you observe."
   ]
  },
  {
   "cell_type": "code",
   "execution_count": 10,
   "metadata": {},
   "outputs": [
    {
     "name": "stdout",
     "output_type": "stream",
     "text": [
      "point =  6.923690144580687\n",
      "probability of observing that point if it came from cluster 0 =  1.2823702222237765e-06\n",
      "probability of observing that point if it came from cluster 1 =  0.15079315714650326\n",
      "point =  3.7833754318725337\n",
      "probability of observing that point if it came from cluster 0 =  0.031386768011510635\n",
      "probability of observing that point if it came from cluster 1 =  0.06342524296073912\n",
      "point =  3.740637073573962\n",
      "probability of observing that point if it came from cluster 0 =  0.023575802741903185\n",
      "probability of observing that point if it came from cluster 1 =  0.06206627224049491\n",
      "point =  7.433981170200385\n",
      "probability of observing that point if it came from cluster 0 =  7.500558071404775e-10\n",
      "probability of observing that point if it came from cluster 1 =  0.1516303032949565\n",
      "point =  5.245152666330506\n",
      "probability of observing that point if it came from cluster 0 =  0.5925290422370684\n",
      "probability of observing that point if it came from cluster 1 =  0.11341616227837621\n",
      "point =  5.476036196223571\n",
      "probability of observing that point if it came from cluster 0 =  0.27901572819355214\n",
      "probability of observing that point if it came from cluster 1 =  0.12084408219159634\n",
      "point =  5.179357881300982\n",
      "probability of observing that point if it came from cluster 0 =  0.6910583170015774\n",
      "probability of observing that point if it came from cluster 1 =  0.11122660565869849\n",
      "point =  5.093712503023731\n",
      "probability of observing that point if it came from cluster 0 =  0.8108329944017104\n",
      "probability of observing that point if it came from cluster 1 =  0.10833762648384976\n",
      "point =  4.964307281852689\n",
      "probability of observing that point if it came from cluster 0 =  0.9466170605527721\n",
      "probability of observing that point if it came from cluster 1 =  0.10390419946924014\n",
      "point =  9.147473748914836\n",
      "probability of observing that point if it came from cluster 0 =  7.332797466286397e-26\n",
      "probability of observing that point if it came from cluster 1 =  0.11715545604778678\n"
     ]
    }
   ],
   "source": [
    "prob_c0_x = [] # P(C_0 | X_i)\n",
    "prob_c1_x = [] # P(C_1 | X_i)\n",
    "prob_x = [] # P(X_i)\n",
    "\n",
    "k = 2\n",
    "\n",
    "for p in data:\n",
    "    print(\"point = \", p)\n",
    "    pdf_i = []\n",
    "\n",
    "    for j in range(k):\n",
    "        # P(X_i | C_j)\n",
    "        pdf_i.append(norm.pdf(p, mean[j], var[j]))\n",
    "        print(\"probability of observing that point if it came from cluster \" + str(j) + \" = \", pdf_i[j])\n",
    "        # P(C_j) already computed\n",
    "        prob_c[j]\n",
    "\n",
    "    # P(X_i) = P(C_0)P(X_i | C_0) + P(C_1)P(X_i | C_1)\n",
    "    prob_x = prob_c[0] * pdf_i[0] + prob_c[1] * pdf_i[1]\n",
    "\n",
    "    # P(C_j | X_i) = P(X_i | C_j)P(C_j) / P(X_i)\n",
    "    prob_c0_x.append(prob_c[0] * pdf_i[0] / prob_x)\n",
    "    prob_c1_x.append(prob_c[1] * pdf_i[1] / prob_x)"
   ]
  },
  {
   "attachments": {},
   "cell_type": "markdown",
   "metadata": {},
   "source": [
    "The updated model is more confident in its predictions. "
   ]
  },
  {
   "attachments": {},
   "cell_type": "markdown",
   "metadata": {},
   "source": [
    "h) Use `P(S_j | X_i)` to create a hard assignment - label each point as belonging to a specific cluster (0 or 1)"
   ]
  },
  {
   "cell_type": "code",
   "execution_count": 12,
   "metadata": {},
<<<<<<< HEAD
   "outputs": [
    {
     "name": "stdout",
     "output_type": "stream",
     "text": [
      "1: 6.923690144580687: cluster 1\n",
      "2: 3.7833754318725337: cluster 1\n",
      "3: 3.740637073573962: cluster 1\n",
      "4: 7.433981170200385: cluster 1\n",
      "5: 5.245152666330506: cluster 0\n",
      "6: 5.476036196223571: cluster 0\n",
      "7: 5.179357881300982: cluster 0\n",
      "8: 5.093712503023731: cluster 0\n",
      "9: 4.964307281852689: cluster 0\n",
      "10: 9.147473748914836: cluster 1\n"
     ]
    }
   ],
   "source": [
    "assignments = []\n",
    "\n",
    "for i in range(len(data)):\n",
    "    if prob_c0_x[i] > prob_c1_x[i]:\n",
    "        assignments.append(0)\n",
    "    else:\n",
    "        assignments.append(1)\n",
    "\n",
    "for i, point in enumerate(data):\n",
    "    print(f\"{i+1}: {point}: cluster {assignments[i]}\")"
   ]
  },
  {
   "attachments": {},
   "cell_type": "markdown",
   "metadata": {},
   "source": [
    "### Clustering Aggregation\n",
    "\n",
    "| Point | C | P |\n",
    "|-------|---|---|\n",
    "| A     | 0 | a |\n",
    "| B     | 0 | b |\n",
    "| C     | 2 | b |\n",
    "| D     | 1 | c |\n",
    "| E     | 1 | d |\n",
    "\n",
    "a) Fill in the following table where for each pair of points determine whether C and P agree or disagree on how to cluster that pair."
   ]
  },
  {
   "attachments": {},
   "cell_type": "markdown",
   "metadata": {},
   "source": [
    "| Pair | Disagreement |\n",
    "|------|--------------|\n",
    "| A  B |      no       |\n",
    "| A  C |      yes       |\n",
    "| A  D |      yes     |\n",
    "| A  E |      yes       |\n",
    "| B  C |      yes       |\n",
    "| B  D |      yes       |\n",
    "| B  E |      yes       |\n",
    "| C  D |      yes       |\n",
    "| C  E |      yes       |\n",
    "| D  E |      no       |\n"
   ]
  },
  {
   "attachments": {},
   "cell_type": "markdown",
   "metadata": {},
   "source": [
    "As datasets become very large, this process can become computationally challenging.\n",
    "\n",
    "b) Given N points, what is the formula for the number of unique pairs of points one can create?"
   ]
  },
  {
   "attachments": {},
   "cell_type": "markdown",
   "metadata": {},
   "source": [
    "N(N-1)/2"
   ]
  },
  {
   "attachments": {},
   "cell_type": "markdown",
   "metadata": {},
   "source": [
    "Assume that clustering C clusters all points in the same cluster and clustering P clusters points as such:\n",
    "\n",
    "| Point | P |\n",
    "|-------|---|\n",
    "| A     | 0 |\n",
    "| B     | 0 |\n",
    "| C     | 0 |\n",
    "| D     | 1 |\n",
    "| E     | 1 |\n",
    "| F     | 2 |\n",
    "| G     | 2 |\n",
    "| H     | 2 |\n",
    "| I     | 2 |\n",
    "\n",
    "c) What is the maximum number of disagreements there could be for a dataset of this size? (use the formula from b)?"
   ]
  },
  {
   "attachments": {},
   "cell_type": "markdown",
   "metadata": {},
   "source": [
    "10"
   ]
  },
  {
   "attachments": {},
   "cell_type": "markdown",
   "metadata": {},
   "source": [
    "d) If we look at cluster 0. There are (3 x 2) / 2 = 3 pairs that agree with C (since all points in C are in the same cluster). For each cluster, determine how many agreements there are. How many total agreements are there? How many disagreements does that mean there are between C and P?"
   ]
  },
  {
   "attachments": {},
   "cell_type": "markdown",
   "metadata": {},
   "source": [
    "26"
   ]
  },
  {
   "attachments": {},
   "cell_type": "markdown",
   "metadata": {},
   "source": [
    "e) Assuming that filtering the dataset by cluster number is a computationally easy operation, describe an algorithm inspired by the above process that can efficiently compute disagreement distances on large datasets."
   ]
  },
  {
   "attachments": {},
   "cell_type": "markdown",
   "metadata": {},
   "source": [
    "Cluster the data\n",
    "For each set of points in a cluster, compute the disagreement distance between each pair of points\n",
    "Lastly, combine the distances for each pair to obtain a single disagreement distance for the entire dataset."
   ]
=======
   "outputs": [],
   "source": []
>>>>>>> upstream/main
  }
 ],
 "metadata": {
  "kernelspec": {
   "display_name": "Python 3",
   "language": "python",
   "name": "python3"
  },
  "language_info": {
   "codemirror_mode": {
    "name": "ipython",
    "version": 3
   },
   "file_extension": ".py",
   "mimetype": "text/x-python",
   "name": "python",
   "nbconvert_exporter": "python",
   "pygments_lexer": "ipython3",
   "version": "3.11.2"
  },
  "orig_nbformat": 4,
  "vscode": {
   "interpreter": {
    "hash": "e7370f93d1d0cde622a1f8e1c04877d8463912d04d973331ad4851f04de6915a"
   }
  }
 },
 "nbformat": 4,
 "nbformat_minor": 2
}
